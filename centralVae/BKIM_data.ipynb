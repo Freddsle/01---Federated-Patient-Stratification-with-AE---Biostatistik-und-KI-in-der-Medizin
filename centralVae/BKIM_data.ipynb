{
 "cells": [
  {
   "cell_type": "markdown",
   "metadata": {
    "id": "TY5pfVGsHjly"
   },
   "source": [
    "#### Imports"
   ]
  },
  {
   "cell_type": "code",
   "execution_count": 2,
   "metadata": {
    "colab": {
     "base_uri": "https://localhost:8080/"
    },
    "id": "X903d2xlwhHY",
    "outputId": "3595a48b-9d18-420b-89ec-97c9872348c1"
   },
   "outputs": [],
   "source": [
    "import pandas as pd\n",
    "import numpy as np\n",
    "import os"
   ]
  },
  {
   "cell_type": "markdown",
   "metadata": {
    "id": "GGej8xHoHqyx"
   },
   "source": [
    "# Load and analyze data"
   ]
  },
  {
   "cell_type": "code",
   "execution_count": null,
   "metadata": {},
   "outputs": [],
   "source": [
    "df_meta_data = pd.read_csv('00_simulated_data/1_balanced_all_metadata.tsv', sep=\"\\t\")\n",
    "print(f'size df: {len(df_meta_data)}')\n",
    "print(f'keys:{df_meta_data.keys()}')\n",
    "print(f'Nr different files: {df_meta_data[\"file\"].unique().size}')\n",
    "print(f'Different codintions: {df_meta_data[\"condition\"].unique()}')\n",
    "print(f'Different labs: {df_meta_data[\"lab\"].unique()}')\n",
    "df_meta_data.head()\n",
    "\n",
    "df = pd.read_csv('00_simulated_data/1_balanced_intensities_data_no_batch.tsv', sep=\"\\t\")\n",
    "print(f'data shape: {df.shape}')\n",
    "df.drop(columns=['rowname'], inplace=True)\n"
   ]
  },
  {
   "cell_type": "markdown",
   "metadata": {
    "id": "r7xnT1h7HXag"
   },
   "source": [
    "## DF analysis"
   ]
  },
  {
   "cell_type": "code",
   "execution_count": 9,
   "metadata": {
    "colab": {
     "base_uri": "https://localhost:8080/",
     "height": 392
    },
    "id": "uURSaEUY-jMT",
    "outputId": "bd7b4b5f-9f9a-4e37-8683-42ca2e246efa"
   },
   "outputs": [
    {
     "data": {
      "text/html": [
       "<div>\n",
       "<style scoped>\n",
       "    .dataframe tbody tr th:only-of-type {\n",
       "        vertical-align: middle;\n",
       "    }\n",
       "\n",
       "    .dataframe tbody tr th {\n",
       "        vertical-align: top;\n",
       "    }\n",
       "\n",
       "    .dataframe thead th {\n",
       "        text-align: right;\n",
       "    }\n",
       "</style>\n",
       "<table border=\"1\" class=\"dataframe\">\n",
       "  <thead>\n",
       "    <tr style=\"text-align: right;\">\n",
       "      <th></th>\n",
       "      <th>s.1</th>\n",
       "      <th>s.2</th>\n",
       "      <th>s.3</th>\n",
       "      <th>s.4</th>\n",
       "      <th>s.5</th>\n",
       "      <th>s.6</th>\n",
       "      <th>s.7</th>\n",
       "      <th>s.8</th>\n",
       "      <th>s.9</th>\n",
       "      <th>s.10</th>\n",
       "      <th>...</th>\n",
       "      <th>s.591</th>\n",
       "      <th>s.592</th>\n",
       "      <th>s.593</th>\n",
       "      <th>s.594</th>\n",
       "      <th>s.595</th>\n",
       "      <th>s.596</th>\n",
       "      <th>s.597</th>\n",
       "      <th>s.598</th>\n",
       "      <th>s.599</th>\n",
       "      <th>s.600</th>\n",
       "    </tr>\n",
       "  </thead>\n",
       "  <tbody>\n",
       "    <tr>\n",
       "      <th>0</th>\n",
       "      <td>0.306759</td>\n",
       "      <td>0.009030</td>\n",
       "      <td>0.795219</td>\n",
       "      <td>1.925091</td>\n",
       "      <td>-0.369820</td>\n",
       "      <td>1.607347</td>\n",
       "      <td>0.668093</td>\n",
       "      <td>-1.015779</td>\n",
       "      <td>0.620443</td>\n",
       "      <td>-0.469487</td>\n",
       "      <td>...</td>\n",
       "      <td>-0.900936</td>\n",
       "      <td>0.226405</td>\n",
       "      <td>-1.392659</td>\n",
       "      <td>-0.904909</td>\n",
       "      <td>-0.038007</td>\n",
       "      <td>-1.758006</td>\n",
       "      <td>-1.708123</td>\n",
       "      <td>-1.380459</td>\n",
       "      <td>-0.452418</td>\n",
       "      <td>-0.975395</td>\n",
       "    </tr>\n",
       "    <tr>\n",
       "      <th>1</th>\n",
       "      <td>1.936036</td>\n",
       "      <td>1.241359</td>\n",
       "      <td>2.494587</td>\n",
       "      <td>-1.419317</td>\n",
       "      <td>2.045953</td>\n",
       "      <td>-0.645242</td>\n",
       "      <td>-0.162151</td>\n",
       "      <td>1.749453</td>\n",
       "      <td>1.909497</td>\n",
       "      <td>-2.104746</td>\n",
       "      <td>...</td>\n",
       "      <td>-1.912972</td>\n",
       "      <td>-0.554299</td>\n",
       "      <td>-2.015634</td>\n",
       "      <td>-0.139802</td>\n",
       "      <td>-2.179023</td>\n",
       "      <td>0.819403</td>\n",
       "      <td>1.072423</td>\n",
       "      <td>-0.826927</td>\n",
       "      <td>2.342183</td>\n",
       "      <td>-2.362233</td>\n",
       "    </tr>\n",
       "    <tr>\n",
       "      <th>2</th>\n",
       "      <td>-0.446169</td>\n",
       "      <td>2.160299</td>\n",
       "      <td>0.632408</td>\n",
       "      <td>-1.164468</td>\n",
       "      <td>0.735876</td>\n",
       "      <td>0.196877</td>\n",
       "      <td>-0.161377</td>\n",
       "      <td>0.441596</td>\n",
       "      <td>-1.054342</td>\n",
       "      <td>-0.876970</td>\n",
       "      <td>...</td>\n",
       "      <td>-2.069035</td>\n",
       "      <td>-1.660188</td>\n",
       "      <td>-1.587191</td>\n",
       "      <td>-1.050557</td>\n",
       "      <td>-1.063450</td>\n",
       "      <td>-2.317851</td>\n",
       "      <td>-1.234551</td>\n",
       "      <td>-1.261532</td>\n",
       "      <td>-0.216014</td>\n",
       "      <td>-0.512537</td>\n",
       "    </tr>\n",
       "    <tr>\n",
       "      <th>3</th>\n",
       "      <td>0.507732</td>\n",
       "      <td>0.318516</td>\n",
       "      <td>-2.189154</td>\n",
       "      <td>1.694059</td>\n",
       "      <td>-0.205212</td>\n",
       "      <td>0.099743</td>\n",
       "      <td>-0.514795</td>\n",
       "      <td>0.636508</td>\n",
       "      <td>0.217191</td>\n",
       "      <td>0.224594</td>\n",
       "      <td>...</td>\n",
       "      <td>0.808544</td>\n",
       "      <td>-0.159275</td>\n",
       "      <td>-0.224594</td>\n",
       "      <td>-0.904900</td>\n",
       "      <td>-0.960899</td>\n",
       "      <td>-0.247794</td>\n",
       "      <td>1.234673</td>\n",
       "      <td>-1.733287</td>\n",
       "      <td>-2.661307</td>\n",
       "      <td>0.473262</td>\n",
       "    </tr>\n",
       "    <tr>\n",
       "      <th>4</th>\n",
       "      <td>1.489814</td>\n",
       "      <td>2.408393</td>\n",
       "      <td>0.671784</td>\n",
       "      <td>1.400463</td>\n",
       "      <td>2.370321</td>\n",
       "      <td>2.067378</td>\n",
       "      <td>2.658187</td>\n",
       "      <td>1.449075</td>\n",
       "      <td>3.785107</td>\n",
       "      <td>2.919931</td>\n",
       "      <td>...</td>\n",
       "      <td>0.252348</td>\n",
       "      <td>0.085447</td>\n",
       "      <td>-0.269701</td>\n",
       "      <td>1.549186</td>\n",
       "      <td>0.319960</td>\n",
       "      <td>0.253052</td>\n",
       "      <td>-0.162951</td>\n",
       "      <td>1.740549</td>\n",
       "      <td>1.979373</td>\n",
       "      <td>0.766073</td>\n",
       "    </tr>\n",
       "    <tr>\n",
       "      <th>5</th>\n",
       "      <td>1.270386</td>\n",
       "      <td>-0.665405</td>\n",
       "      <td>0.379491</td>\n",
       "      <td>0.480890</td>\n",
       "      <td>1.063941</td>\n",
       "      <td>1.864269</td>\n",
       "      <td>-0.728089</td>\n",
       "      <td>0.203300</td>\n",
       "      <td>1.169392</td>\n",
       "      <td>-0.568587</td>\n",
       "      <td>...</td>\n",
       "      <td>-1.080258</td>\n",
       "      <td>0.331707</td>\n",
       "      <td>-1.363381</td>\n",
       "      <td>-0.716009</td>\n",
       "      <td>-1.004026</td>\n",
       "      <td>0.177371</td>\n",
       "      <td>0.197698</td>\n",
       "      <td>-0.231228</td>\n",
       "      <td>0.819963</td>\n",
       "      <td>-1.879348</td>\n",
       "    </tr>\n",
       "    <tr>\n",
       "      <th>6</th>\n",
       "      <td>0.735534</td>\n",
       "      <td>0.424771</td>\n",
       "      <td>0.520684</td>\n",
       "      <td>3.444128</td>\n",
       "      <td>0.356468</td>\n",
       "      <td>-2.196956</td>\n",
       "      <td>1.779277</td>\n",
       "      <td>2.675776</td>\n",
       "      <td>1.725129</td>\n",
       "      <td>2.795327</td>\n",
       "      <td>...</td>\n",
       "      <td>2.529678</td>\n",
       "      <td>1.426224</td>\n",
       "      <td>-1.399663</td>\n",
       "      <td>-2.769126</td>\n",
       "      <td>-0.342986</td>\n",
       "      <td>0.531683</td>\n",
       "      <td>-1.559017</td>\n",
       "      <td>0.613626</td>\n",
       "      <td>2.247572</td>\n",
       "      <td>1.818967</td>\n",
       "    </tr>\n",
       "    <tr>\n",
       "      <th>7</th>\n",
       "      <td>0.110404</td>\n",
       "      <td>0.804343</td>\n",
       "      <td>-0.887644</td>\n",
       "      <td>0.234401</td>\n",
       "      <td>-1.110186</td>\n",
       "      <td>1.089525</td>\n",
       "      <td>0.466002</td>\n",
       "      <td>-0.467520</td>\n",
       "      <td>-0.462359</td>\n",
       "      <td>-0.575274</td>\n",
       "      <td>...</td>\n",
       "      <td>-0.565062</td>\n",
       "      <td>-1.079267</td>\n",
       "      <td>-1.936592</td>\n",
       "      <td>-1.217427</td>\n",
       "      <td>-2.021567</td>\n",
       "      <td>-0.986335</td>\n",
       "      <td>-0.948598</td>\n",
       "      <td>0.705200</td>\n",
       "      <td>-1.267197</td>\n",
       "      <td>-0.652137</td>\n",
       "    </tr>\n",
       "    <tr>\n",
       "      <th>8</th>\n",
       "      <td>-2.577372</td>\n",
       "      <td>-2.441885</td>\n",
       "      <td>3.828207</td>\n",
       "      <td>0.577440</td>\n",
       "      <td>0.467733</td>\n",
       "      <td>0.030646</td>\n",
       "      <td>2.942702</td>\n",
       "      <td>-1.354332</td>\n",
       "      <td>0.752142</td>\n",
       "      <td>-0.962789</td>\n",
       "      <td>...</td>\n",
       "      <td>-1.490273</td>\n",
       "      <td>1.312477</td>\n",
       "      <td>-2.520588</td>\n",
       "      <td>-2.015016</td>\n",
       "      <td>1.324924</td>\n",
       "      <td>-0.927174</td>\n",
       "      <td>3.380883</td>\n",
       "      <td>0.121920</td>\n",
       "      <td>-1.548543</td>\n",
       "      <td>-0.404090</td>\n",
       "    </tr>\n",
       "    <tr>\n",
       "      <th>9</th>\n",
       "      <td>0.317244</td>\n",
       "      <td>0.949730</td>\n",
       "      <td>1.418558</td>\n",
       "      <td>2.203218</td>\n",
       "      <td>1.482200</td>\n",
       "      <td>0.502176</td>\n",
       "      <td>0.901645</td>\n",
       "      <td>2.276928</td>\n",
       "      <td>3.137935</td>\n",
       "      <td>0.742333</td>\n",
       "      <td>...</td>\n",
       "      <td>-1.628535</td>\n",
       "      <td>-0.487917</td>\n",
       "      <td>-0.609679</td>\n",
       "      <td>4.058102</td>\n",
       "      <td>1.501325</td>\n",
       "      <td>2.617751</td>\n",
       "      <td>0.771953</td>\n",
       "      <td>0.106194</td>\n",
       "      <td>-0.567018</td>\n",
       "      <td>1.692025</td>\n",
       "    </tr>\n",
       "  </tbody>\n",
       "</table>\n",
       "<p>10 rows × 600 columns</p>\n",
       "</div>"
      ],
      "text/plain": [
       "        s.1       s.2       s.3       s.4       s.5       s.6       s.7   \n",
       "0  0.306759  0.009030  0.795219  1.925091 -0.369820  1.607347  0.668093  \\\n",
       "1  1.936036  1.241359  2.494587 -1.419317  2.045953 -0.645242 -0.162151   \n",
       "2 -0.446169  2.160299  0.632408 -1.164468  0.735876  0.196877 -0.161377   \n",
       "3  0.507732  0.318516 -2.189154  1.694059 -0.205212  0.099743 -0.514795   \n",
       "4  1.489814  2.408393  0.671784  1.400463  2.370321  2.067378  2.658187   \n",
       "5  1.270386 -0.665405  0.379491  0.480890  1.063941  1.864269 -0.728089   \n",
       "6  0.735534  0.424771  0.520684  3.444128  0.356468 -2.196956  1.779277   \n",
       "7  0.110404  0.804343 -0.887644  0.234401 -1.110186  1.089525  0.466002   \n",
       "8 -2.577372 -2.441885  3.828207  0.577440  0.467733  0.030646  2.942702   \n",
       "9  0.317244  0.949730  1.418558  2.203218  1.482200  0.502176  0.901645   \n",
       "\n",
       "        s.8       s.9      s.10  ...     s.591     s.592     s.593     s.594   \n",
       "0 -1.015779  0.620443 -0.469487  ... -0.900936  0.226405 -1.392659 -0.904909  \\\n",
       "1  1.749453  1.909497 -2.104746  ... -1.912972 -0.554299 -2.015634 -0.139802   \n",
       "2  0.441596 -1.054342 -0.876970  ... -2.069035 -1.660188 -1.587191 -1.050557   \n",
       "3  0.636508  0.217191  0.224594  ...  0.808544 -0.159275 -0.224594 -0.904900   \n",
       "4  1.449075  3.785107  2.919931  ...  0.252348  0.085447 -0.269701  1.549186   \n",
       "5  0.203300  1.169392 -0.568587  ... -1.080258  0.331707 -1.363381 -0.716009   \n",
       "6  2.675776  1.725129  2.795327  ...  2.529678  1.426224 -1.399663 -2.769126   \n",
       "7 -0.467520 -0.462359 -0.575274  ... -0.565062 -1.079267 -1.936592 -1.217427   \n",
       "8 -1.354332  0.752142 -0.962789  ... -1.490273  1.312477 -2.520588 -2.015016   \n",
       "9  2.276928  3.137935  0.742333  ... -1.628535 -0.487917 -0.609679  4.058102   \n",
       "\n",
       "      s.595     s.596     s.597     s.598     s.599     s.600  \n",
       "0 -0.038007 -1.758006 -1.708123 -1.380459 -0.452418 -0.975395  \n",
       "1 -2.179023  0.819403  1.072423 -0.826927  2.342183 -2.362233  \n",
       "2 -1.063450 -2.317851 -1.234551 -1.261532 -0.216014 -0.512537  \n",
       "3 -0.960899 -0.247794  1.234673 -1.733287 -2.661307  0.473262  \n",
       "4  0.319960  0.253052 -0.162951  1.740549  1.979373  0.766073  \n",
       "5 -1.004026  0.177371  0.197698 -0.231228  0.819963 -1.879348  \n",
       "6 -0.342986  0.531683 -1.559017  0.613626  2.247572  1.818967  \n",
       "7 -2.021567 -0.986335 -0.948598  0.705200 -1.267197 -0.652137  \n",
       "8  1.324924 -0.927174  3.380883  0.121920 -1.548543 -0.404090  \n",
       "9  1.501325  2.617751  0.771953  0.106194 -0.567018  1.692025  \n",
       "\n",
       "[10 rows x 600 columns]"
      ]
     },
     "execution_count": 9,
     "metadata": {},
     "output_type": "execute_result"
    }
   ],
   "source": [
    "df.head(10)"
   ]
  },
  {
   "cell_type": "code",
   "execution_count": 10,
   "metadata": {
    "colab": {
     "base_uri": "https://localhost:8080/",
     "height": 269
    },
    "id": "pDyNul-18wfE",
    "outputId": "cf367e92-681f-41ac-94e4-71defa86aa67"
   },
   "outputs": [
    {
     "data": {
      "text/html": [
       "<div>\n",
       "<style scoped>\n",
       "    .dataframe tbody tr th:only-of-type {\n",
       "        vertical-align: middle;\n",
       "    }\n",
       "\n",
       "    .dataframe tbody tr th {\n",
       "        vertical-align: top;\n",
       "    }\n",
       "\n",
       "    .dataframe thead th {\n",
       "        text-align: right;\n",
       "    }\n",
       "</style>\n",
       "<table border=\"1\" class=\"dataframe\">\n",
       "  <thead>\n",
       "    <tr style=\"text-align: right;\">\n",
       "      <th></th>\n",
       "      <th></th>\n",
       "      <th>file</th>\n",
       "    </tr>\n",
       "    <tr>\n",
       "      <th>condition</th>\n",
       "      <th>lab</th>\n",
       "      <th></th>\n",
       "    </tr>\n",
       "  </thead>\n",
       "  <tbody>\n",
       "    <tr>\n",
       "      <th rowspan=\"3\" valign=\"top\">A</th>\n",
       "      <th>lab1</th>\n",
       "      <td>100</td>\n",
       "    </tr>\n",
       "    <tr>\n",
       "      <th>lab2</th>\n",
       "      <td>100</td>\n",
       "    </tr>\n",
       "    <tr>\n",
       "      <th>lab3</th>\n",
       "      <td>100</td>\n",
       "    </tr>\n",
       "    <tr>\n",
       "      <th rowspan=\"3\" valign=\"top\">B</th>\n",
       "      <th>lab1</th>\n",
       "      <td>100</td>\n",
       "    </tr>\n",
       "    <tr>\n",
       "      <th>lab2</th>\n",
       "      <td>100</td>\n",
       "    </tr>\n",
       "    <tr>\n",
       "      <th>lab3</th>\n",
       "      <td>100</td>\n",
       "    </tr>\n",
       "  </tbody>\n",
       "</table>\n",
       "</div>"
      ],
      "text/plain": [
       "                file\n",
       "condition lab       \n",
       "A         lab1   100\n",
       "          lab2   100\n",
       "          lab3   100\n",
       "B         lab1   100\n",
       "          lab2   100\n",
       "          lab3   100"
      ]
     },
     "execution_count": 10,
     "metadata": {},
     "output_type": "execute_result"
    }
   ],
   "source": [
    "df_meta_data.groupby(['condition','lab']).count()"
   ]
  },
  {
   "cell_type": "code",
   "execution_count": 11,
   "metadata": {
    "colab": {
     "base_uri": "https://localhost:8080/"
    },
    "id": "rZo-VQUW8UrA",
    "outputId": "b75a4928-729f-4aa1-d754-6869fba06eb4"
   },
   "outputs": [
    {
     "name": "stdout",
     "output_type": "stream",
     "text": [
      "Count null im df: 0.0\n",
      "Count 0 im df: 0.0\n",
      "Max value im df: 41.0361530698842\n",
      "Min value im df: -30.8052715308984\n",
      "Mean value im df: 0.18211636586938074\n",
      "Median value im df: 0.15806559945749224\n",
      "Standard deviation value im df: 0.029182835037475482\n"
     ]
    }
   ],
   "source": [
    "print(f'Count null im df: {df[df==0].sum().sum()}')\n",
    "print(f'Count 0 im df: {df[df==0].sum().sum()}')\n",
    "print(f'Max value im df: {df.max().max()}')\n",
    "print(f'Min value im df: {df.min().min()}')\n",
    "print(f'Mean value im df: {df.mean().mean()}')\n",
    "print(f'Median value im df: {df.median().median()}')\n",
    "print(f'Standard deviation value im df: {df.std().std()}')\n"
   ]
  },
  {
   "cell_type": "code",
   "execution_count": 12,
   "metadata": {
    "colab": {
     "base_uri": "https://localhost:8080/",
     "height": 335
    },
    "id": "B5WYsLEOBDqx",
    "outputId": "59d05e7e-2608-4945-bc46-91d7022abd8d"
   },
   "outputs": [
    {
     "data": {
      "text/plain": [
       "count    6000.000000\n",
       "mean        0.182116\n",
       "std         2.052836\n",
       "min       -15.121730\n",
       "25%        -1.053605\n",
       "50%         0.159049\n",
       "75%         1.403192\n",
       "max        15.450765\n",
       "dtype: float64"
      ]
     },
     "execution_count": 12,
     "metadata": {},
     "output_type": "execute_result"
    }
   ],
   "source": [
    "df.describe().mean(axis=1)"
   ]
  },
  {
   "cell_type": "markdown",
   "metadata": {
    "id": "Y-VlQ8IdHTFl"
   },
   "source": [
    "#### Protein (row) analysis"
   ]
  },
  {
   "cell_type": "code",
   "execution_count": 13,
   "metadata": {
    "colab": {
     "base_uri": "https://localhost:8080/"
    },
    "id": "ByrlHaFECGcN",
    "outputId": "272eb5dd-0c9b-41c3-94e5-09a842380af1"
   },
   "outputs": [
    {
     "name": "stdout",
     "output_type": "stream",
     "text": [
      "Nr of unique max indices: 105\n",
      "Nr of unique min indices: 98\n",
      "Nr of unique min/max indices: 138\n"
     ]
    },
    {
     "data": {
      "text/plain": [
       "array([  11,  178,  217,  218,  232,  318,  487,  542,  543,  544,  613,\n",
       "        638,  691,  693,  723,  753,  782,  836,  854,  872,  876,  947,\n",
       "       1054, 1079, 1203, 1236, 1264, 1267, 1308, 1321, 1325, 1345, 1447,\n",
       "       1453, 1484, 1538, 1691, 1816, 1833, 1850, 1920, 1940, 1964, 1990,\n",
       "       2106, 2198, 2200, 2317, 2409, 2485, 2491, 2515, 2542, 2557, 2730,\n",
       "       2777, 2921, 2964, 3044, 3215, 3272, 3278, 3326, 3389, 3533, 3541,\n",
       "       3569, 3685, 3733, 3752, 3769, 3788, 3878, 3900, 4090, 4153, 4302,\n",
       "       4341, 4452, 4492, 4594, 4648, 4845, 4846, 4909, 4938, 4943, 5088,\n",
       "       5128, 5148, 5151, 5167, 5186, 5211, 5230, 5236, 5241, 5345, 5414,\n",
       "       5437, 5557, 5609, 5650, 5725, 5937,   11,  178,  217,  218,  232,\n",
       "        318,  398,  544,  613,  638,  691,  693,  750,  753,  782,  808,\n",
       "        854,  872,  947, 1203, 1321, 1325, 1345, 1372, 1447, 1484, 1538,\n",
       "       1678, 1684, 1833, 1850, 1964, 1990, 2003, 2089, 2106, 2200, 2239,\n",
       "       2317, 2485, 2491, 2510, 2515, 2577, 2593, 2659, 2730, 2777, 2809,\n",
       "       2921, 2957, 2964, 3032, 3044, 3076, 3115, 3151, 3272, 3326, 3409,\n",
       "       3533, 3541, 3632, 3685, 3733, 3780, 3857, 3878, 3900, 4090, 4214,\n",
       "       4302, 4341, 4470, 4723, 4845, 4858, 4886, 4909, 4943, 5128, 5144,\n",
       "       5151, 5167, 5186, 5230, 5241, 5345, 5414, 5437, 5554, 5609, 5650,\n",
       "       5692, 5701, 5725, 5828, 5937], dtype=int64)"
      ]
     },
     "execution_count": 13,
     "metadata": {},
     "output_type": "execute_result"
    }
   ],
   "source": [
    "max_indices = []\n",
    "min_indices = []\n",
    "for column in df.keys():\n",
    "  max_indices.append(df[column].argmax())\n",
    "  min_indices.append(df[column].argmin())\n",
    "\n",
    "max_indices = np.array(max_indices)\n",
    "min_indices = np.array(min_indices)\n",
    "max_indices = np.unique(max_indices)\n",
    "min_indices = np.unique(min_indices)\n",
    "print(f'Nr of unique max indices: {max_indices.size}')\n",
    "print(f'Nr of unique min indices: {min_indices.size}')\n",
    "\n",
    "min_max_rows = np.append(max_indices, min_indices)\n",
    "np.unique(min_max_rows).size\n",
    "print(f'Nr of unique min/max indices: {np.unique(min_max_rows).size}')\n",
    "min_max_rows"
   ]
  },
  {
   "cell_type": "code",
   "execution_count": 14,
   "metadata": {
    "id": "RWk8kiX9Fmce"
   },
   "outputs": [],
   "source": [
    "highest_var_rows = df.std(axis=1).sort_values()[-100:].index.values"
   ]
  },
  {
   "cell_type": "code",
   "execution_count": 15,
   "metadata": {
    "colab": {
     "base_uri": "https://localhost:8080/"
    },
    "id": "oiliCrxuGBAL",
    "outputId": "bc274017-f048-44e3-de06-1075b614eacb"
   },
   "outputs": [
    {
     "name": "stdout",
     "output_type": "stream",
     "text": [
      "Total nr. of rows with high variance / min & max values:\n",
      "143\n"
     ]
    }
   ],
   "source": [
    "interesting_rows =np.append(highest_var_rows, min_max_rows)\n",
    "print(\"Total nr. of rows with high variance / min & max values:\")\n",
    "print(np.unique(np.append(highest_var_rows, min_max_rows)).size)"
   ]
  },
  {
   "cell_type": "markdown",
   "metadata": {
    "id": "yI7g0NAmHLXT"
   },
   "source": [
    "#### Sample (column) analysis"
   ]
  },
  {
   "cell_type": "code",
   "execution_count": 16,
   "metadata": {
    "colab": {
     "base_uri": "https://localhost:8080/"
    },
    "id": "kNowswNp_D9Q",
    "outputId": "3bfb8410-d632-4490-81ea-d31e0ea81082"
   },
   "outputs": [
    {
     "name": "stdout",
     "output_type": "stream",
     "text": [
      "Highest summed samples (top 5):\n",
      "s.260    1469.317882\n",
      "s.209    1473.963750\n",
      "s.297    1482.120893\n",
      "s.127    1497.229997\n",
      "s.64     1595.400156\n",
      "dtype: float64\n",
      "Lowest summed samples (top 5):\n",
      "s.317    606.258837\n",
      "s.370    653.353942\n",
      "s.455    667.769647\n",
      "s.343    682.305563\n",
      "s.403    693.846052\n",
      "dtype: float64\n",
      "Highest variance in sample (top 5):\n",
      "s.466    2.137962\n",
      "s.279    2.141078\n",
      "s.109    2.148169\n",
      "s.137    2.151998\n",
      "s.306    2.167880\n",
      "dtype: float64\n",
      "Lowest vairance in samples (top 5):\n",
      "s.252    1.978631\n",
      "s.525    1.983319\n",
      "s.590    1.984720\n",
      "s.549    1.985118\n",
      "s.4      1.986736\n",
      "dtype: float64\n"
     ]
    }
   ],
   "source": [
    "topx = 5\n",
    "print(f'Highest summed samples (top {topx}):\\n{df.sum().sort_values()[-topx:]}')\n",
    "print(f'Lowest summed samples (top {topx}):\\n{df.sum().sort_values()[:topx]}')\n",
    "print(f'Highest variance in sample (top {topx}):\\n{df.std().sort_values()[-topx:]}')\n",
    "print(f'Lowest vairance in samples (top {topx}):\\n{df.std().sort_values()[:topx]}')\n"
   ]
  },
  {
   "cell_type": "code",
   "execution_count": 17,
   "metadata": {
    "colab": {
     "base_uri": "https://localhost:8080/"
    },
    "id": "lPPwrpxy9HEs",
    "outputId": "732c4eb3-77a0-4722-937a-f4704eff5f52"
   },
   "outputs": [
    {
     "name": "stdout",
     "output_type": "stream",
     "text": [
      "Requirement already satisfied: torch in c:\\users\\pkober\\appdata\\local\\anaconda3\\lib\\site-packages (2.5.1+cu118)\n",
      "Requirement already satisfied: torchvision in c:\\users\\pkober\\appdata\\local\\anaconda3\\lib\\site-packages (0.20.1+cu118)\n",
      "Collecting torchmetrics\n",
      "  Downloading torchmetrics-1.6.0-py3-none-any.whl.metadata (20 kB)\n",
      "Requirement already satisfied: filelock in c:\\users\\pkober\\appdata\\local\\anaconda3\\lib\\site-packages (from torch) (3.16.1)\n",
      "Requirement already satisfied: typing-extensions>=4.8.0 in c:\\users\\pkober\\appdata\\local\\anaconda3\\lib\\site-packages (from torch) (4.9.0)\n",
      "Requirement already satisfied: networkx in c:\\users\\pkober\\appdata\\local\\anaconda3\\lib\\site-packages (from torch) (3.4.2)\n",
      "Requirement already satisfied: jinja2 in c:\\users\\pkober\\appdata\\local\\anaconda3\\lib\\site-packages (from torch) (3.1.3)\n",
      "Requirement already satisfied: fsspec in c:\\users\\pkober\\appdata\\local\\anaconda3\\lib\\site-packages (from torch) (2023.10.0)\n",
      "Requirement already satisfied: sympy==1.13.1 in c:\\users\\pkober\\appdata\\local\\anaconda3\\lib\\site-packages (from torch) (1.13.1)\n",
      "Requirement already satisfied: mpmath<1.4,>=1.1.0 in c:\\users\\pkober\\appdata\\local\\anaconda3\\lib\\site-packages (from sympy==1.13.1->torch) (1.3.0)\n",
      "Requirement already satisfied: numpy in c:\\users\\pkober\\appdata\\local\\anaconda3\\lib\\site-packages (from torchvision) (1.26.4)\n",
      "Requirement already satisfied: pillow!=8.3.*,>=5.3.0 in c:\\users\\pkober\\appdata\\local\\anaconda3\\lib\\site-packages (from torchvision) (10.2.0)\n",
      "Requirement already satisfied: packaging>17.1 in c:\\users\\pkober\\appdata\\local\\anaconda3\\lib\\site-packages (from torchmetrics) (23.1)\n",
      "Collecting lightning-utilities>=0.8.0 (from torchmetrics)\n",
      "  Downloading lightning_utilities-0.11.9-py3-none-any.whl.metadata (5.2 kB)\n",
      "Requirement already satisfied: setuptools in c:\\users\\pkober\\appdata\\local\\anaconda3\\lib\\site-packages (from lightning-utilities>=0.8.0->torchmetrics) (68.2.2)\n",
      "Requirement already satisfied: MarkupSafe>=2.0 in c:\\users\\pkober\\appdata\\local\\anaconda3\\lib\\site-packages (from jinja2->torch) (2.1.3)\n",
      "Downloading torchmetrics-1.6.0-py3-none-any.whl (926 kB)\n",
      "   ---------------------------------------- 0.0/926.4 kB ? eta -:--:--\n",
      "   ---------------------------------------- 10.2/926.4 kB ? eta -:--:--\n",
      "   --- ------------------------------------ 92.2/926.4 kB 1.3 MB/s eta 0:00:01\n",
      "   ----------- ---------------------------- 276.5/926.4 kB 2.4 MB/s eta 0:00:01\n",
      "   -------------------------- ------------- 614.4/926.4 kB 3.0 MB/s eta 0:00:01\n",
      "   ---------------------------------------  921.6/926.4 kB 3.4 MB/s eta 0:00:01\n",
      "   ---------------------------------------- 926.4/926.4 kB 3.1 MB/s eta 0:00:00\n",
      "Downloading lightning_utilities-0.11.9-py3-none-any.whl (28 kB)\n",
      "Installing collected packages: lightning-utilities, torchmetrics\n",
      "Successfully installed lightning-utilities-0.11.9 torchmetrics-1.6.0\n"
     ]
    }
   ],
   "source": [
    "!pip install torch torchvision torchmetrics\n",
    "import torch\n",
    "import torch.nn.functional as F\n",
    "from torch.utils.data import DataLoader, TensorDataset\n",
    "from sklearn.preprocessing import StandardScaler\n",
    "from torch import nn\n",
    "from sklearn.cluster import KMeans"
   ]
  },
  {
   "cell_type": "code",
   "execution_count": 18,
   "metadata": {
    "id": "XnmxzxLd_4CO"
   },
   "outputs": [
    {
     "data": {
      "text/html": [
       "<div>\n",
       "<style scoped>\n",
       "    .dataframe tbody tr th:only-of-type {\n",
       "        vertical-align: middle;\n",
       "    }\n",
       "\n",
       "    .dataframe tbody tr th {\n",
       "        vertical-align: top;\n",
       "    }\n",
       "\n",
       "    .dataframe thead th {\n",
       "        text-align: right;\n",
       "    }\n",
       "</style>\n",
       "<table border=\"1\" class=\"dataframe\">\n",
       "  <thead>\n",
       "    <tr style=\"text-align: right;\">\n",
       "      <th></th>\n",
       "      <th>0</th>\n",
       "      <th>1</th>\n",
       "      <th>2</th>\n",
       "      <th>3</th>\n",
       "      <th>4</th>\n",
       "      <th>5</th>\n",
       "      <th>6</th>\n",
       "      <th>7</th>\n",
       "      <th>8</th>\n",
       "      <th>9</th>\n",
       "      <th>...</th>\n",
       "      <th>5990</th>\n",
       "      <th>5991</th>\n",
       "      <th>5992</th>\n",
       "      <th>5993</th>\n",
       "      <th>5994</th>\n",
       "      <th>5995</th>\n",
       "      <th>5996</th>\n",
       "      <th>5997</th>\n",
       "      <th>5998</th>\n",
       "      <th>5999</th>\n",
       "    </tr>\n",
       "    <tr>\n",
       "      <th>lab</th>\n",
       "      <th></th>\n",
       "      <th></th>\n",
       "      <th></th>\n",
       "      <th></th>\n",
       "      <th></th>\n",
       "      <th></th>\n",
       "      <th></th>\n",
       "      <th></th>\n",
       "      <th></th>\n",
       "      <th></th>\n",
       "      <th></th>\n",
       "      <th></th>\n",
       "      <th></th>\n",
       "      <th></th>\n",
       "      <th></th>\n",
       "      <th></th>\n",
       "      <th></th>\n",
       "      <th></th>\n",
       "      <th></th>\n",
       "      <th></th>\n",
       "      <th></th>\n",
       "    </tr>\n",
       "  </thead>\n",
       "  <tbody>\n",
       "    <tr>\n",
       "      <th>lab1</th>\n",
       "      <td>-0.185572</td>\n",
       "      <td>-0.622078</td>\n",
       "      <td>-0.339407</td>\n",
       "      <td>-0.167128</td>\n",
       "      <td>1.053053</td>\n",
       "      <td>-0.240043</td>\n",
       "      <td>1.014095</td>\n",
       "      <td>-0.426729</td>\n",
       "      <td>-0.591065</td>\n",
       "      <td>1.460200</td>\n",
       "      <td>...</td>\n",
       "      <td>-0.622559</td>\n",
       "      <td>1.261222</td>\n",
       "      <td>1.897502</td>\n",
       "      <td>-0.757706</td>\n",
       "      <td>0.364536</td>\n",
       "      <td>1.319693</td>\n",
       "      <td>-0.704419</td>\n",
       "      <td>-2.112198</td>\n",
       "      <td>1.103052</td>\n",
       "      <td>-0.500695</td>\n",
       "    </tr>\n",
       "    <tr>\n",
       "      <th>lab2</th>\n",
       "      <td>-0.314772</td>\n",
       "      <td>-0.183725</td>\n",
       "      <td>-0.389405</td>\n",
       "      <td>-0.158470</td>\n",
       "      <td>1.185869</td>\n",
       "      <td>-0.362975</td>\n",
       "      <td>1.266408</td>\n",
       "      <td>-0.279602</td>\n",
       "      <td>-1.072922</td>\n",
       "      <td>0.958017</td>\n",
       "      <td>...</td>\n",
       "      <td>-0.733970</td>\n",
       "      <td>1.248808</td>\n",
       "      <td>1.873856</td>\n",
       "      <td>-0.902321</td>\n",
       "      <td>0.276288</td>\n",
       "      <td>1.190917</td>\n",
       "      <td>-1.272811</td>\n",
       "      <td>-1.641226</td>\n",
       "      <td>1.081770</td>\n",
       "      <td>-0.501103</td>\n",
       "    </tr>\n",
       "    <tr>\n",
       "      <th>lab3</th>\n",
       "      <td>-0.314556</td>\n",
       "      <td>-0.354332</td>\n",
       "      <td>-0.240572</td>\n",
       "      <td>-0.052113</td>\n",
       "      <td>1.199571</td>\n",
       "      <td>-0.306143</td>\n",
       "      <td>1.185094</td>\n",
       "      <td>-0.536574</td>\n",
       "      <td>-0.650045</td>\n",
       "      <td>1.403596</td>\n",
       "      <td>...</td>\n",
       "      <td>-0.887153</td>\n",
       "      <td>1.284302</td>\n",
       "      <td>1.833994</td>\n",
       "      <td>-0.804477</td>\n",
       "      <td>0.495191</td>\n",
       "      <td>1.216369</td>\n",
       "      <td>-1.063772</td>\n",
       "      <td>-2.018593</td>\n",
       "      <td>1.166987</td>\n",
       "      <td>-0.524508</td>\n",
       "    </tr>\n",
       "  </tbody>\n",
       "</table>\n",
       "<p>3 rows × 6000 columns</p>\n",
       "</div>"
      ],
      "text/plain": [
       "          0         1         2         3         4         5         6      \n",
       "lab                                                                          \n",
       "lab1 -0.185572 -0.622078 -0.339407 -0.167128  1.053053 -0.240043  1.014095  \\\n",
       "lab2 -0.314772 -0.183725 -0.389405 -0.158470  1.185869 -0.362975  1.266408   \n",
       "lab3 -0.314556 -0.354332 -0.240572 -0.052113  1.199571 -0.306143  1.185094   \n",
       "\n",
       "          7         8         9     ...      5990      5991      5992   \n",
       "lab                                 ...                                 \n",
       "lab1 -0.426729 -0.591065  1.460200  ... -0.622559  1.261222  1.897502  \\\n",
       "lab2 -0.279602 -1.072922  0.958017  ... -0.733970  1.248808  1.873856   \n",
       "lab3 -0.536574 -0.650045  1.403596  ... -0.887153  1.284302  1.833994   \n",
       "\n",
       "          5993      5994      5995      5996      5997      5998      5999  \n",
       "lab                                                                         \n",
       "lab1 -0.757706  0.364536  1.319693 -0.704419 -2.112198  1.103052 -0.500695  \n",
       "lab2 -0.902321  0.276288  1.190917 -1.272811 -1.641226  1.081770 -0.501103  \n",
       "lab3 -0.804477  0.495191  1.216369 -1.063772 -2.018593  1.166987 -0.524508  \n",
       "\n",
       "[3 rows x 6000 columns]"
      ]
     },
     "execution_count": 18,
     "metadata": {},
     "output_type": "execute_result"
    }
   ],
   "source": [
    "sample_data = df.T\n",
    "sample_data['lab'] = df_meta_data['lab'].values\n",
    "grouped_data = sample_data.groupby('lab')\n",
    "grouped_data.mean()"
   ]
  },
  {
   "cell_type": "markdown",
   "metadata": {},
   "source": [
    "## Normalize data and train VAE"
   ]
  },
  {
   "cell_type": "code",
   "execution_count": 20,
   "metadata": {
    "id": "hKuO3DeFGs2d"
   },
   "outputs": [],
   "source": [
    "# normalize data by lab-mean\n",
    "def z_score_normalize(group):\n",
    "    return (group - group.mean()) / group.std()\n",
    "\n",
    "normalized_data = grouped_data.transform(z_score_normalize)"
   ]
  },
  {
   "cell_type": "code",
   "execution_count": 21,
   "metadata": {
    "colab": {
     "base_uri": "https://localhost:8080/"
    },
    "id": "N6uZNBjHHlwR",
    "outputId": "4784fa24-5e86-424c-cc95-550089f8d519"
   },
   "outputs": [
    {
     "name": "stdout",
     "output_type": "stream",
     "text": [
      "(600, 6000)\n"
     ]
    }
   ],
   "source": [
    "print(normalized_data.shape)\n",
    "#Convert to PyTorch tensor\n",
    "proteomics_tensor = torch.tensor(normalized_data.values, dtype=torch.float32)"
   ]
  },
  {
   "cell_type": "code",
   "execution_count": 22,
   "metadata": {
    "id": "omML7fyt9gJI"
   },
   "outputs": [],
   "source": [
    "class VAE(nn.Module):\n",
    "    def __init__(self, input_dim, hidden_dim1, hidden_dim2, latent_dim):\n",
    "        super(VAE, self).__init__()\n",
    "        self.encoder = nn.Sequential(\n",
    "            nn.Linear(input_dim, hidden_dim1),\n",
    "            nn.ReLU(),\n",
    "            nn.Linear(hidden_dim1, hidden_dim2),\n",
    "            nn.ReLU(),\n",
    "            nn.Linear(hidden_dim2, latent_dim)\n",
    "        )\n",
    "        self.decoder = nn.Sequential(\n",
    "            nn.Linear(latent_dim, hidden_dim2),\n",
    "            nn.ReLU(),\n",
    "            nn.Linear(hidden_dim2, hidden_dim1),\n",
    "            nn.ReLU(),\n",
    "            nn.Linear(hidden_dim1, input_dim)\n",
    "            )\n",
    "        self.fc_mu = nn.Linear(latent_dim, latent_dim)\n",
    "        self.fc_var = nn.Linear(latent_dim, latent_dim)\n",
    "\n",
    "    def reparameterize(self, mu, logvar):\n",
    "        std = torch.exp(0.5 * logvar)\n",
    "        eps = torch.randn_like(std)\n",
    "        return mu + eps * std\n",
    "\n",
    "    def encode(self, x):\n",
    "        x = self.encoder(x)\n",
    "        mu = self.fc_mu(x)\n",
    "        logvar = self.fc_var(x)\n",
    "        return mu, logvar\n",
    "\n",
    "    def forward(self, x):\n",
    "        hidden = self.encoder(x)\n",
    "        mu = self.fc_mu(hidden)\n",
    "        logvar = self.fc_var(hidden)\n",
    "        z = self.reparameterize(mu, logvar)\n",
    "        recon_x = self.decoder(z)\n",
    "        return recon_x, mu, logvar\n"
   ]
  },
  {
   "cell_type": "code",
   "execution_count": 23,
   "metadata": {
    "id": "ZXmsDmah6MTC"
   },
   "outputs": [],
   "source": [
    "# standard VAE loss\n",
    "def vae_loss(recon_x, x, mu, logvar):\n",
    "    recon_loss = F.mse_loss(recon_x, x, reduction='sum')\n",
    "    kl_divergence = -0.5 * torch.sum(1 + logvar - mu.pow(2) - logvar.exp())\n",
    "    return recon_loss + kl_divergence"
   ]
  },
  {
   "cell_type": "code",
   "execution_count": null,
   "metadata": {
    "colab": {
     "base_uri": "https://localhost:8080/"
    },
    "id": "83D2Mr-t6YOU",
    "outputId": "b272414e-df27-41cb-b675-628873331066"
   },
   "outputs": [
    {
     "name": "stdout",
     "output_type": "stream",
     "text": [
      "Epoch 1, Loss: 5974.591927083334\n",
      "Epoch 2, Loss: 5717.5645572916665\n",
      "Epoch 3, Loss: 5665.792708333333\n",
      "Epoch 4, Loss: 5644.390416666667\n",
      "Epoch 5, Loss: 5635.376041666666\n",
      "Epoch 6, Loss: 5628.623567708333\n",
      "Epoch 7, Loss: 5619.108203125\n",
      "Epoch 8, Loss: 5608.631640625\n",
      "Epoch 9, Loss: 5595.871588541667\n",
      "Epoch 10, Loss: 5574.689869791667\n",
      "Epoch 11, Loss: 5546.18875\n",
      "Epoch 12, Loss: 5516.90484375\n",
      "Epoch 13, Loss: 5482.29890625\n",
      "Epoch 14, Loss: 5443.0353125\n",
      "Epoch 15, Loss: 5410.984817708333\n",
      "Epoch 16, Loss: 5354.903932291667\n",
      "Epoch 17, Loss: 5290.3309505208335\n",
      "Epoch 18, Loss: 5223.992760416667\n",
      "Epoch 19, Loss: 5164.389596354166\n",
      "Epoch 20, Loss: 5085.58109375\n",
      "Epoch 21, Loss: 4988.66921875\n",
      "Epoch 22, Loss: 4896.341575520833\n",
      "Epoch 23, Loss: 4803.2088671875\n",
      "Epoch 24, Loss: 4719.628997395834\n",
      "Epoch 25, Loss: 4633.362135416667\n",
      "Epoch 26, Loss: 4519.659856770833\n",
      "Epoch 27, Loss: 4405.233919270833\n",
      "Epoch 28, Loss: 4280.7803776041665\n",
      "Epoch 29, Loss: 4150.279921875\n",
      "Epoch 30, Loss: 4030.7091796875\n",
      "Epoch 31, Loss: 3917.36640625\n",
      "Epoch 32, Loss: 3793.1190364583335\n",
      "Epoch 33, Loss: 3658.364765625\n",
      "Epoch 34, Loss: 3514.0552604166664\n",
      "Epoch 35, Loss: 3385.1297526041667\n",
      "Epoch 36, Loss: 3241.9425\n",
      "Epoch 37, Loss: 3112.0279557291665\n",
      "Epoch 38, Loss: 2982.252109375\n",
      "Epoch 39, Loss: 2892.7824088541665\n",
      "Epoch 40, Loss: 2834.357447916667\n",
      "Epoch 41, Loss: 2751.7483854166667\n",
      "Epoch 42, Loss: 2605.0197135416665\n",
      "Epoch 43, Loss: 2465.2484244791667\n",
      "Epoch 44, Loss: 2368.2766927083335\n",
      "Epoch 45, Loss: 2243.6214583333335\n",
      "Epoch 46, Loss: 2141.1890364583332\n",
      "Epoch 47, Loss: 2069.0271484375\n",
      "Epoch 48, Loss: 1988.13126953125\n",
      "Epoch 49, Loss: 1885.7132877604167\n",
      "Epoch 50, Loss: 1792.4505989583333\n",
      "Epoch 51, Loss: 1744.97294921875\n",
      "Epoch 52, Loss: 1713.0698372395834\n",
      "Epoch 53, Loss: 1682.2290234375\n",
      "Epoch 54, Loss: 1575.0002669270834\n",
      "Epoch 55, Loss: 1472.9003255208333\n",
      "Epoch 56, Loss: 1398.3999348958334\n",
      "Epoch 57, Loss: 1295.8381380208334\n",
      "Epoch 58, Loss: 1212.0161263020834\n",
      "Epoch 59, Loss: 1133.3108756510417\n",
      "Epoch 60, Loss: 1073.8841536458333\n",
      "Epoch 61, Loss: 1006.2942513020834\n",
      "Epoch 62, Loss: 938.6062337239583\n",
      "Epoch 63, Loss: 903.9563151041667\n",
      "Epoch 64, Loss: 873.1604361979166\n",
      "Epoch 65, Loss: 858.5532975260417\n",
      "Epoch 66, Loss: 838.6637630208334\n",
      "Epoch 67, Loss: 822.493984375\n",
      "Epoch 68, Loss: 791.214736328125\n",
      "Epoch 69, Loss: 772.38677734375\n",
      "Epoch 70, Loss: 718.8112825520833\n",
      "Epoch 71, Loss: 688.2592513020834\n",
      "Epoch 72, Loss: 672.4673111979166\n",
      "Epoch 73, Loss: 653.6202115885417\n",
      "Epoch 74, Loss: 621.2856461588542\n",
      "Epoch 75, Loss: 609.594560546875\n",
      "Epoch 76, Loss: 584.391328125\n",
      "Epoch 77, Loss: 545.1163297526042\n",
      "Epoch 78, Loss: 512.7196419270833\n",
      "Epoch 79, Loss: 505.4616552734375\n",
      "Epoch 80, Loss: 497.19550944010416\n",
      "Epoch 81, Loss: 511.18279134114584\n",
      "Epoch 82, Loss: 507.042685546875\n",
      "Epoch 83, Loss: 492.72009114583335\n",
      "Epoch 84, Loss: 479.207412109375\n",
      "Epoch 85, Loss: 466.5125374348958\n",
      "Epoch 86, Loss: 440.9231591796875\n",
      "Epoch 87, Loss: 422.9196484375\n",
      "Epoch 88, Loss: 406.321337890625\n",
      "Epoch 89, Loss: 387.86564290364583\n",
      "Epoch 90, Loss: 369.31465494791667\n",
      "Epoch 91, Loss: 349.9594417317708\n",
      "Epoch 92, Loss: 333.4334619140625\n",
      "Epoch 93, Loss: 329.73641682942707\n",
      "Epoch 94, Loss: 323.7149381510417\n",
      "Epoch 95, Loss: 314.830009765625\n",
      "Epoch 96, Loss: 318.03891520182293\n",
      "Epoch 97, Loss: 310.404736328125\n",
      "Epoch 98, Loss: 302.68480631510414\n",
      "Epoch 99, Loss: 302.26135091145835\n",
      "Epoch 100, Loss: 300.66051106770834\n",
      "Epoch 101, Loss: 310.09108072916666\n",
      "Epoch 102, Loss: 296.6778369140625\n",
      "Epoch 103, Loss: 292.794443359375\n",
      "Epoch 104, Loss: 297.44240397135417\n",
      "Epoch 105, Loss: 297.45436686197917\n",
      "Epoch 106, Loss: 298.63739013671875\n",
      "Epoch 107, Loss: 297.75636800130206\n",
      "Epoch 108, Loss: 292.0369384765625\n",
      "Epoch 109, Loss: 285.340859375\n",
      "Epoch 110, Loss: 289.24236979166665\n",
      "Epoch 111, Loss: 295.4237841796875\n",
      "Epoch 112, Loss: 302.41772623697915\n",
      "Epoch 113, Loss: 310.47110270182293\n",
      "Epoch 114, Loss: 314.3512784830729\n",
      "Epoch 115, Loss: 321.9109033203125\n",
      "Epoch 116, Loss: 313.764189453125\n",
      "Epoch 117, Loss: 293.4077913411458\n",
      "Epoch 118, Loss: 278.47981608072917\n",
      "Epoch 119, Loss: 275.3743359375\n",
      "Epoch 120, Loss: 274.5219091796875\n",
      "Epoch 121, Loss: 263.17529459635415\n",
      "Epoch 122, Loss: 249.5690869140625\n",
      "Epoch 123, Loss: 240.8848429361979\n",
      "Epoch 124, Loss: 228.68425944010417\n",
      "Epoch 125, Loss: 219.73146728515624\n",
      "Epoch 126, Loss: 219.20244384765624\n",
      "Epoch 127, Loss: 217.44295328776042\n",
      "Epoch 128, Loss: 213.04054361979166\n",
      "Epoch 129, Loss: 209.23136962890624\n",
      "Epoch 130, Loss: 204.311044921875\n",
      "Epoch 131, Loss: 198.64037923177082\n",
      "Epoch 132, Loss: 200.47383626302084\n",
      "Epoch 133, Loss: 200.42892008463542\n",
      "Epoch 134, Loss: 199.65078694661457\n",
      "Epoch 135, Loss: 210.3103995768229\n",
      "Epoch 136, Loss: 211.0542041015625\n",
      "Epoch 137, Loss: 218.74261881510418\n",
      "Epoch 138, Loss: 232.91728841145834\n",
      "Epoch 139, Loss: 254.66738444010417\n",
      "Epoch 140, Loss: 280.89245849609375\n",
      "Epoch 141, Loss: 277.8714200846354\n",
      "Epoch 142, Loss: 273.2355004882813\n",
      "Epoch 143, Loss: 257.8395711263021\n",
      "Epoch 144, Loss: 260.6445849609375\n",
      "Epoch 145, Loss: 260.344599609375\n",
      "Epoch 146, Loss: 250.26966634114584\n",
      "Epoch 147, Loss: 247.06657958984374\n",
      "Epoch 148, Loss: 234.8459326171875\n",
      "Epoch 149, Loss: 222.58787190755208\n",
      "Epoch 150, Loss: 219.01205240885417\n"
     ]
    },
    {
     "ename": "AttributeError",
     "evalue": "'VAE' object has no attribute 'save'",
     "output_type": "error",
     "traceback": [
      "\u001b[1;31m---------------------------------------------------------------------------\u001b[0m",
      "\u001b[1;31mAttributeError\u001b[0m                            Traceback (most recent call last)",
      "Cell \u001b[1;32mIn[24], line 28\u001b[0m\n\u001b[0;32m     26\u001b[0m optimizer \u001b[38;5;241m=\u001b[39m torch\u001b[38;5;241m.\u001b[39moptim\u001b[38;5;241m.\u001b[39mAdam(vae_model\u001b[38;5;241m.\u001b[39mparameters(), lr\u001b[38;5;241m=\u001b[39m\u001b[38;5;241m1e-3\u001b[39m)\n\u001b[0;32m     27\u001b[0m vae_trained \u001b[38;5;241m=\u001b[39m vae_train(vae_model, optimizer, proteomics_dl, vae_loss, epochs\u001b[38;5;241m=\u001b[39mepochs)\n\u001b[1;32m---> 28\u001b[0m \u001b[43mvae_trained\u001b[49m\u001b[38;5;241;43m.\u001b[39;49m\u001b[43msave\u001b[49m(\u001b[38;5;124mf\u001b[39m\u001b[38;5;124m'\u001b[39m\u001b[38;5;124mvae_encoder_\u001b[39m\u001b[38;5;132;01m{\u001b[39;00mepochs\u001b[38;5;132;01m}\u001b[39;00m\u001b[38;5;124mepochs_\u001b[39m\u001b[38;5;132;01m{\u001b[39;00mhidden_dim_1\u001b[38;5;132;01m}\u001b[39;00m\u001b[38;5;124mhd1_\u001b[39m\u001b[38;5;132;01m{\u001b[39;00mhidden_dim_2\u001b[38;5;132;01m}\u001b[39;00m\u001b[38;5;124mhd2_\u001b[39m\u001b[38;5;132;01m{\u001b[39;00mlatent_dim\u001b[38;5;132;01m}\u001b[39;00m\u001b[38;5;124mld.h5\u001b[39m\u001b[38;5;124m'\u001b[39m)\n",
      "File \u001b[1;32mc:\\Python310\\lib\\site-packages\\torch\\nn\\modules\\module.py:1614\u001b[0m, in \u001b[0;36mModule.__getattr__\u001b[1;34m(self, name)\u001b[0m\n\u001b[0;32m   1612\u001b[0m     \u001b[38;5;28;01mif\u001b[39;00m name \u001b[38;5;129;01min\u001b[39;00m modules:\n\u001b[0;32m   1613\u001b[0m         \u001b[38;5;28;01mreturn\u001b[39;00m modules[name]\n\u001b[1;32m-> 1614\u001b[0m \u001b[38;5;28;01mraise\u001b[39;00m \u001b[38;5;167;01mAttributeError\u001b[39;00m(\u001b[38;5;124m\"\u001b[39m\u001b[38;5;124m'\u001b[39m\u001b[38;5;132;01m{}\u001b[39;00m\u001b[38;5;124m'\u001b[39m\u001b[38;5;124m object has no attribute \u001b[39m\u001b[38;5;124m'\u001b[39m\u001b[38;5;132;01m{}\u001b[39;00m\u001b[38;5;124m'\u001b[39m\u001b[38;5;124m\"\u001b[39m\u001b[38;5;241m.\u001b[39mformat(\n\u001b[0;32m   1615\u001b[0m     \u001b[38;5;28mtype\u001b[39m(\u001b[38;5;28mself\u001b[39m)\u001b[38;5;241m.\u001b[39m\u001b[38;5;18m__name__\u001b[39m, name))\n",
      "\u001b[1;31mAttributeError\u001b[0m: 'VAE' object has no attribute 'save'"
     ]
    }
   ],
   "source": [
    "def vae_train(model, optimizer, data_loader, loss_fn, epochs=10):\n",
    "    model.train()\n",
    "    for epoch in range(epochs):\n",
    "        total_loss = 0\n",
    "        for batch in data_loader:\n",
    "            x = batch[0]\n",
    "            x = x.view(x.size(0), -1)\n",
    "            optimizer.zero_grad()\n",
    "            recon_x, mu, logvar = model(x)\n",
    "            loss = loss_fn(recon_x, x, mu, logvar)\n",
    "            loss.backward()\n",
    "            optimizer.step()\n",
    "            total_loss += loss.item()\n",
    "        print(f\"Epoch {epoch + 1}, Loss: {total_loss / len(data_loader.dataset)}\")\n",
    "    return model\n",
    "\n",
    "proteomics_ds = TensorDataset(proteomics_tensor)\n",
    "proteomics_dl = DataLoader(proteomics_ds, batch_size=64, shuffle=True)\n",
    "input_dim = proteomics_tensor.shape[1]\n",
    "hidden_dim_1 = 2000\n",
    "hidden_dim_2 = 100\n",
    "latent_dim = 10\n",
    "epochs = 150\n",
    "\n",
    "vae_model = VAE(input_dim, hidden_dim_1, hidden_dim_2, latent_dim)\n",
    "optimizer = torch.optim.Adam(vae_model.parameters(), lr=1e-3)\n",
    "vae_trained = vae_train(vae_model, optimizer, proteomics_dl, vae_loss, epochs=epochs)\n"
   ]
  },
  {
   "cell_type": "code",
   "execution_count": null,
   "metadata": {
    "colab": {
     "base_uri": "https://localhost:8080/"
    },
    "id": "EeWHrEpWgBbV",
    "outputId": "b9d12b9d-e34a-4f45-c9ae-1d499fc0df21"
   },
   "outputs": [
    {
     "name": "stdout",
     "output_type": "stream",
     "text": [
      "Models are saved to: c:\\Users\\pkober\\Documents\\bioAI\\vae_models\\vae_models\\vae_models\n",
      "Directory exists:  False\n"
     ]
    }
   ],
   "source": [
    "os.makedirs(\"vae_models\", exist_ok=True)\n",
    "os.chdir(\"vae_models\")\n",
    "print(f\"Models are saved to: {os.getcwd()}\")"
   ]
  },
  {
   "cell_type": "code",
   "execution_count": 29,
   "metadata": {
    "id": "vCb85_8PD5FG"
   },
   "outputs": [],
   "source": [
    "# for save and/or load VAE\n",
    "filename=f'vae_encoder_{epochs}epochs_{hidden_dim_1}hd1_{hidden_dim_2}hd2_{latent_dim}ld.pth'\n",
    "torch.save(vae_trained, filename)\n",
    "#loaded_vae = torch.load(filename)\n",
    "\n",
    "# latent representation\n",
    "def extract_latent_space(vae, data_loader):\n",
    "    vae.eval()\n",
    "    latent_representations = []\n",
    "    with torch.no_grad():\n",
    "        for batch in data_loader:\n",
    "            x = batch[0]\n",
    "            x = x.view(x.size(0), -1)\n",
    "            mu, logvar = vae.encode(x)\n",
    "            z = vae.reparameterize(mu, logvar)\n",
    "            latent_representations.append(z.cpu().numpy())\n",
    "    return np.vstack(latent_representations)\n",
    "latent_representations = extract_latent_space(vae_trained, proteomics_dl)"
   ]
  },
  {
   "cell_type": "code",
   "execution_count": 30,
   "metadata": {
    "id": "Zkiqug7c-n9K"
   },
   "outputs": [],
   "source": [
    "# k-means clustering\n",
    "n_clusters = 2\n",
    "kmeans = KMeans(n_clusters=n_clusters, random_state=22)\n",
    "clusters = kmeans.fit_predict(latent_representations)"
   ]
  },
  {
   "cell_type": "code",
   "execution_count": 31,
   "metadata": {
    "id": "jy3P3770BRYS"
   },
   "outputs": [],
   "source": [
    "# Add cluster labels back to your original DataFrame\n",
    "sample_data['Cluster'] = clusters.astype(int)\n",
    "sample_data[\"Condition\"] = df_meta_data[\"condition\"].values\n",
    "sample_data[\"Cluster\"] = sample_data['Cluster'].apply(lambda x:\"A\" if x==1 else \"B\")\n"
   ]
  },
  {
   "cell_type": "code",
   "execution_count": 32,
   "metadata": {
    "colab": {
     "base_uri": "https://localhost:8080/",
     "height": 147
    },
    "id": "QCc5DhITE9co",
    "outputId": "8f6d5732-051b-4617-d830-c4b179df15c1"
   },
   "outputs": [
    {
     "data": {
      "text/plain": [
       "True     319\n",
       "False    281\n",
       "Name: count, dtype: int64"
      ]
     },
     "execution_count": 32,
     "metadata": {},
     "output_type": "execute_result"
    }
   ],
   "source": [
    "# compute how often cluster is \"correct\"\n",
    "equal_count = (sample_data[\"Condition\"]==sample_data[\"Cluster\"])\n",
    "equal_count.value_counts()"
   ]
  },
  {
   "cell_type": "code",
   "execution_count": 33,
   "metadata": {
    "colab": {
     "base_uri": "https://localhost:8080/",
     "height": 607
    },
    "id": "iiFOdAfF-5tx",
    "outputId": "d47b8813-059d-4b08-8af8-ae6825e2af22"
   },
   "outputs": [
    {
     "data": {
      "image/png": "[encoded data removed]",
      "text/plain": [
       "<Figure size 1200x600 with 2 Axes>"
      ]
     },
     "metadata": {},
     "output_type": "display_data"
    }
   ],
   "source": [
    "from sklearn.manifold import TSNE\n",
    "import matplotlib.pyplot as plt\n",
    "\n",
    "tsne = TSNE(n_components=2, random_state=0)\n",
    "latent_2d = tsne.fit_transform(latent_representations)\n",
    "\n",
    "fig, axes = plt.subplots(1, 2, figsize=(12, 6))\n",
    "for cluster in set(clusters):\n",
    "    indices = (clusters == cluster)\n",
    "    axes[0].scatter(latent_2d[indices, 0], latent_2d[indices, 1], label=f'Cluster {cluster}', alpha=0.7)\n",
    "axes[0].set_title('t-SNE Visualization of Latent Representations with condition Labels')\n",
    "axes[0].legend()\n",
    "\n",
    "conditions = df_meta_data['condition'].values\n",
    "unique_conditions = np.unique(conditions)\n",
    "for condition in unique_conditions:\n",
    "    indices = (conditions == condition)\n",
    "    axes[1].scatter(\n",
    "        latent_2d[indices, 0],\n",
    "        latent_2d[indices, 1],\n",
    "        label=f'Condition {condition}',\n",
    "        alpha=0.7\n",
    "    )\n",
    "axes[1].set_title('t-SNE Visualization of Latent Representations with condition Labels')\n",
    "axes[1].legend()\n",
    "\n",
    "plt.tight_layout()\n",
    "plt.show()\n"
   ]
  }
 ],
 "metadata": {
  "colab": {
   "provenance": []
  },
  "kernelspec": {
   "display_name": "Python 3",
   "name": "python3"
  },
  "language_info": {
   "codemirror_mode": {
    "name": "ipython",
    "version": 3
   },
   "file_extension": ".py",
   "mimetype": "text/x-python",
   "name": "python",
   "nbconvert_exporter": "python",
   "pygments_lexer": "ipython3",
   "version": "3.10.11"
  }
 },
 "nbformat": 4,
 "nbformat_minor": 0
}
